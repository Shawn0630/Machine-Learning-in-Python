{
 "cells": [
  {
   "cell_type": "code",
   "execution_count": 155,
   "metadata": {
    "collapsed": true,
    "pycharm": {
     "is_executing": false
    }
   },
   "outputs": [],
   "source": [
    "from bin.IOUtilities import IOUtilities\n",
    "from bin.RawDataUtilities import RawDataUtilities\n",
    "from bin.LogisticRegression import LogisticRegression\n",
    "from bin.VisualizatinonUtilities import VisualizationUtilities\n",
    "\n",
    "import scipy.io as sio\n",
    "import numpy as np"
   ]
  },
  {
   "cell_type": "code",
   "execution_count": 156,
   "outputs": [],
   "source": [
    "def load_data(path, transpose = True):\n",
    "     data = sio.loadmat(path)\n",
    "     \n",
    "     y_train_array = data.get('y')\n",
    "     y_train_array = y_train_array.reshape(y_train_array.shape[0])\n",
    "     \n",
    "     x_train_array = data.get('X')\n",
    "     if transpose:\n",
    "         x_train_list = np.asarray([im.reshape((20, 20)).T for im in x_train_array]) # [] - list\n",
    "     else:\n",
    "         x_train_list = np.asarray([im.reshape(400) for im in x_train_array])\n",
    "     \n",
    "     return x_train_list, y_train_array\n"
   ],
   "metadata": {
    "collapsed": false,
    "pycharm": {
     "name": "#%%\n",
     "is_executing": false
    }
   }
  },
  {
   "cell_type": "code",
   "source": [
    "x_raw, y_raw = load_data('../data/ex3data1.mat')"
   ],
   "metadata": {
    "collapsed": false,
    "pycharm": {
     "name": "#%%\n",
     "is_executing": false
    }
   },
   "execution_count": 157,
   "outputs": []
  },
  {
   "cell_type": "code",
   "execution_count": 158,
   "outputs": [
    {
     "data": {
      "text/plain": "<Figure size 432x288 with 1 Axes>",
      "image/png": "[encoded data removed]"
     },
     "metadata": {},
     "output_type": "display_data"
    }
   ],
   "source": [
    "size = (20, 20)\n",
    "VisualizationUtilities.plot_mat(x_raw[np.random.randint(0, 5000)], size)"
   ],
   "metadata": {
    "collapsed": false,
    "pycharm": {
     "name": "#%%\n",
     "is_executing": false
    }
   }
  },
  {
   "cell_type": "code",
   "execution_count": 159,
   "outputs": [],
   "source": [
    "x_raw, y_raw = load_data('../data/ex3data1.mat', False)"
   ],
   "metadata": {
    "collapsed": false,
    "pycharm": {
     "name": "#%%\n",
     "is_executing": false
    }
   }
  },
  {
   "cell_type": "code",
   "execution_count": 160,
   "outputs": [
    {
     "name": "stderr",
     "text": [
      "/Users/shawn/Files/Project/Machine Learning in Python/bin/LogisticRegression.py:79: RuntimeWarning: divide by zero encountered in log\n",
      "  cost = (np.dot(-y_training_mat.T, np.log(sig)) - np.dot(1 - y_training_mat.T, np.log(1 - sig))) / m\n",
      "/Users/shawn/Files/Project/Machine Learning in Python/bin/LogisticRegression.py:79: RuntimeWarning: divide by zero encountered in log\n",
      "  cost = (np.dot(-y_training_mat.T, np.log(sig)) - np.dot(1 - y_training_mat.T, np.log(1 - sig))) / m\n",
      "/Users/shawn/Files/Project/Machine Learning in Python/bin/LogisticRegression.py:79: RuntimeWarning: divide by zero encountered in log\n",
      "  cost = (np.dot(-y_training_mat.T, np.log(sig)) - np.dot(1 - y_training_mat.T, np.log(1 - sig))) / m\n",
      "/Users/shawn/Files/Project/Machine Learning in Python/bin/LogisticRegression.py:79: RuntimeWarning: divide by zero encountered in log\n",
      "  cost = (np.dot(-y_training_mat.T, np.log(sig)) - np.dot(1 - y_training_mat.T, np.log(1 - sig))) / m\n",
      "/Users/shawn/Files/Project/Machine Learning in Python/bin/LogisticRegression.py:79: RuntimeWarning: divide by zero encountered in log\n",
      "  cost = (np.dot(-y_training_mat.T, np.log(sig)) - np.dot(1 - y_training_mat.T, np.log(1 - sig))) / m\n",
      "/Users/shawn/Files/Project/Machine Learning in Python/bin/LogisticRegression.py:79: RuntimeWarning: divide by zero encountered in log\n",
      "  cost = (np.dot(-y_training_mat.T, np.log(sig)) - np.dot(1 - y_training_mat.T, np.log(1 - sig))) / m\n",
      "/Users/shawn/Files/Project/Machine Learning in Python/bin/LogisticRegression.py:79: RuntimeWarning: divide by zero encountered in log\n",
      "  cost = (np.dot(-y_training_mat.T, np.log(sig)) - np.dot(1 - y_training_mat.T, np.log(1 - sig))) / m\n",
      "/Users/shawn/Files/Project/Machine Learning in Python/bin/LogisticRegression.py:19: RuntimeWarning: overflow encountered in exp\n",
      "  return 1. / (1. + np.exp(-t))\n",
      "/Users/shawn/Files/Project/Machine Learning in Python/bin/LogisticRegression.py:79: RuntimeWarning: divide by zero encountered in log\n",
      "  cost = (np.dot(-y_training_mat.T, np.log(sig)) - np.dot(1 - y_training_mat.T, np.log(1 - sig))) / m\n",
      "/Users/shawn/Files/Project/Machine Learning in Python/bin/LogisticRegression.py:19: RuntimeWarning: overflow encountered in exp\n",
      "  return 1. / (1. + np.exp(-t))\n",
      "/Users/shawn/Files/Project/Machine Learning in Python/bin/LogisticRegression.py:79: RuntimeWarning: divide by zero encountered in log\n",
      "  cost = (np.dot(-y_training_mat.T, np.log(sig)) - np.dot(1 - y_training_mat.T, np.log(1 - sig))) / m\n",
      "/Users/shawn/Files/Project/Machine Learning in Python/bin/LogisticRegression.py:79: RuntimeWarning: divide by zero encountered in log\n",
      "  cost = (np.dot(-y_training_mat.T, np.log(sig)) - np.dot(1 - y_training_mat.T, np.log(1 - sig))) / m\n"
     ],
     "output_type": "stream"
    }
   ],
   "source": [
    "opt_theta = []\n",
    "for k in range(1, 11):\n",
    "    logistic_regression = LogisticRegression(degree=1, la=1)\n",
    "    y_i = np.array([1 if label == k else 0 for label in y_raw])\n",
    "    y_i = np.reshape(y_i, (x_raw.shape[0], 1))\n",
    "    opt_theta.append(logistic_regression.fit(x_raw, y_i).theta)"
   ],
   "metadata": {
    "collapsed": false,
    "pycharm": {
     "name": "#%%\n",
     "is_executing": false
    }
   }
  },
  {
   "cell_type": "code",
   "execution_count": 161,
   "outputs": [],
   "source": [
    "def sigmoid(z):\n",
    "    return 1 / (1 + np.exp(-z))"
   ],
   "metadata": {
    "collapsed": false,
    "pycharm": {
     "name": "#%%\n",
     "is_executing": false
    }
   }
  },
  {
   "cell_type": "code",
   "execution_count": 162,
   "outputs": [],
   "source": [
    "def predict_all(X, all_theta):\n",
    "    rows = X.shape[0]\n",
    "    params = X.shape[1]\n",
    "    num_labels = all_theta.shape[0]\n",
    "    \n",
    "    # same as before, insert ones to match the shape\n",
    "    X = np.insert(X, 0, values=np.ones(rows), axis=1)\n",
    "    \n",
    "    # convert to matrices\n",
    "    X = np.matrix(X)\n",
    "    all_theta = np.matrix(all_theta)\n",
    "    \n",
    "    # compute the class probability for each class on each training instance\n",
    "    h = sigmoid(X * all_theta.T)\n",
    "    \n",
    "    # create array of the index with the maximum probability\n",
    "    h_argmax = np.argmax(h, axis=1)\n",
    "    \n",
    "    # because our array was zero-indexed we need to add one for the true label prediction\n",
    "    h_argmax = h_argmax + 1\n",
    "    \n",
    "    return h_argmax"
   ],
   "metadata": {
    "collapsed": false,
    "pycharm": {
     "name": "#%%\n",
     "is_executing": false
    }
   }
  },
  {
   "cell_type": "code",
   "execution_count": 163,
   "outputs": [
    {
     "name": "stdout",
     "text": [
      "accuracy = 97.56%\n"
     ],
     "output_type": "stream"
    }
   ],
   "source": [
    "data = sio.loadmat('ex3data1.mat')\n",
    "y_pred = predict_all(data['X'], np.asmatrix(opt_theta))\n",
    "correct = [1 if a == b else 0 for (a, b) in zip(y_pred, data['y'])]\n",
    "accuracy = (sum(map(int, correct)) / float(len(correct)))\n",
    "print ('accuracy = {0}%'.format(accuracy * 100))"
   ],
   "metadata": {
    "collapsed": false,
    "pycharm": {
     "name": "#%%\n",
     "is_executing": false
    }
   }
  }
 ],
 "metadata": {
  "kernelspec": {
   "display_name": "Python 3",
   "language": "python",
   "name": "python3"
  },
  "language_info": {
   "codemirror_mode": {
    "name": "ipython",
    "version": 2
   },
   "file_extension": ".py",
   "mimetype": "text/x-python",
   "name": "python",
   "nbconvert_exporter": "python",
   "pygments_lexer": "ipython2",
   "version": "2.7.6"
  },
  "pycharm": {
   "stem_cell": {
    "cell_type": "raw",
    "source": [],
    "metadata": {
     "collapsed": false
    }
   }
  }
 },
 "nbformat": 4,
 "nbformat_minor": 0
}